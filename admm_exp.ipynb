{
  "cells": [
    {
      "cell_type": "code",
      "execution_count": 1,
      "id": "291df5d1",
      "metadata": {
        "id": "291df5d1"
      },
      "outputs": [],
      "source": [
        "import numpy as np\n",
        "import sklearn\n",
        "from sklearn.preprocessing import StandardScaler\n",
        "from sklearn.model_selection import train_test_split\n",
        "from pathlib import Path\n",
        "from numpy import linalg as LA\n",
        "from sklearn.base import BaseEstimator\n",
        "from tqdm import trange\n",
        "import pandas as pd\n",
        "import pickle\n",
        "import os"
      ]
    },
    {
      "cell_type": "code",
      "execution_count": 2,
      "id": "05fe0386",
      "metadata": {
        "id": "05fe0386"
      },
      "outputs": [],
      "source": [
        "import matplotlib.pyplot as plt"
      ]
    },
    {
      "cell_type": "code",
      "source": [
        "from scipy import stats"
      ],
      "metadata": {
        "id": "u0SPUvwCe3kX"
      },
      "id": "u0SPUvwCe3kX",
      "execution_count": 3,
      "outputs": []
    },
    {
      "cell_type": "code",
      "execution_count": 4,
      "id": "297bf437",
      "metadata": {
        "id": "297bf437"
      },
      "outputs": [],
      "source": [
        "from sklearn.linear_model import ElasticNet"
      ]
    },
    {
      "cell_type": "code",
      "execution_count": 5,
      "id": "e716ce4b",
      "metadata": {
        "id": "e716ce4b"
      },
      "outputs": [],
      "source": [
        "def make_singular(n, p, rng=0, noise=0.001,radius=1):\n",
        "\n",
        "    #matrix A\n",
        "    singular_part=int(p/5)\n",
        "    rng = np.random.default_rng(rng)\n",
        "    A = rng.normal(size=(p, n))\n",
        "    A[0:singular_part,:]=50*rng.normal(size=(singular_part,n))\n",
        "    preprocess = StandardScaler()\n",
        "    A = preprocess.fit_transform(A)\n",
        "    A=radius*np.transpose(A)/np.sqrt(p)\n",
        "\n",
        "    #hidden x\n",
        "    x = np.zeros(p)\n",
        "    x[0:singular_part] = 3\n",
        "    b = A @ x + noise*rng.normal(size=n)\n",
        "\n",
        "\n",
        "    return A, b, x\n"
      ]
    },
    {
      "cell_type": "code",
      "execution_count": 6,
      "id": "8977e762",
      "metadata": {
        "id": "8977e762"
      },
      "outputs": [],
      "source": [
        "def lasso_obj(A, b, x, c1,c2):\n",
        "    return (LA.norm(A @ x - b))**2/A.shape[0] + c1 * LA.norm(x, ord=1)+c2*(LA.norm(x,ord=2))**2\n",
        "\n"
      ]
    },
    {
      "cell_type": "code",
      "execution_count": 7,
      "id": "ba36cf27",
      "metadata": {
        "id": "ba36cf27"
      },
      "outputs": [],
      "source": [
        "class MyADMM(BaseEstimator):\n",
        "    def __init__(self,\n",
        "    beta=0.14418361364211363,\n",
        "    eta=1,\n",
        "    max_iter=100,\n",
        "    scale_noise=0,\n",
        "    n=1000,\n",
        "    p=64,\n",
        "    rng=0,\n",
        "    nu=1,\n",
        "    mu=1,\n",
        "    mu_g=1,\n",
        "    L = 1) -> None:\n",
        "        self.max_iter = max_iter\n",
        "        self.beta=beta\n",
        "        self.eta=eta\n",
        "        self.scale_noise = scale_noise\n",
        "        self.eta=eta\n",
        "        self.rng = np.random.default_rng(rng)\n",
        "        self.L=L\n",
        "        self.n = n\n",
        "        self.p = p\n",
        "        self.scores=[]\n",
        "        self.avg_scores=[]\n",
        "\n",
        "    def estimate_parameter(self, radius, c1, c2, beta=1,scale_noise=0.001):\n",
        "\n",
        "        #smoothness and convex parameters\n",
        "        self.nu=2*(radius**2)\n",
        "        self.mu=2*(radius**2)\n",
        "        self.mu_g=2*c2\n",
        "        self.beta=beta\n",
        "        self.scale_noise=scale_noise\n",
        "\n",
        "        #estimate eta\n",
        "        L_1=4/(self.mu+self.nu+np.sqrt((self.nu+self.mu)**2+8*self.nu*self.mu))\n",
        "        L_2=2/(self.nu+self.mu)-2*self.mu_g/(self.beta**2)\n",
        "        U=2/(self.nu+self.mu)\n",
        "\n",
        "        if L_1>L_2:\n",
        "            self.eta=(L_1+U)/2\n",
        "        else:\n",
        "            self.eta=(L_2+U)/2\n",
        "        #self.max_iter=int(1/(self.eta**2))\n",
        "\n",
        "        #estimate L\n",
        "        R=(1-2*self.eta*self.nu*self.mu/(self.nu+self.mu))+(2/(self.nu+self.mu)-self.eta)/self.eta\n",
        "        S=self.eta/self.beta\n",
        "        Q=S+self.eta*(2/(self.nu+self.mu)-self.eta)/4\n",
        "        P=1-(2/(self.nu+self.mu)-self.eta)/self.eta\n",
        "        self.L=max(R/P,S/Q)\n",
        "\n",
        "\n",
        "\n",
        "\n",
        "    def fit(self, A, b, c1,c2):\n",
        "\n",
        "        self.x=3*np.ones(self.p)\n",
        "        #print(self.x)\n",
        "\n",
        "        self.y = self.x*0\n",
        "        self.lamb = np.zeros(self.p)\n",
        "\n",
        "        scores = []\n",
        "        scores.append(lasso_obj(A, b, self.x, c1,c2))\n",
        "\n",
        "\n",
        "        for it in trange(self.max_iter, leave=False):\n",
        "\n",
        "            #update for y\n",
        "            for i in range(len(self.y)):\n",
        "                if self.lamb[i]-self.beta*self.x[i]+c1>0 and self.lamb[i]-self.beta*self.x[i]-c1<0:\n",
        "                    self.y[i]=0\n",
        "                elif self.lamb[i]-self.beta*self.x[i]+c1>0 and self.lamb[i]-self.beta*self.x[i]-c1>0:\n",
        "                    self.y[i]=-(self.lamb[i]-self.beta*self.x[i]-c1)/(2*c2+self.beta)\n",
        "                elif self.lamb[i]-self.beta*self.x[i]+c1<0 and self.lamb[i]-self.beta*self.x[i]-c1<0:\n",
        "                    self.y[i]=-(self.lamb[i]-self.beta*self.x[i]+c1)/(2*c2+self.beta)\n",
        "                else:\n",
        "                    if (self.lamb[i]-self.beta*self.x[i]+c1)**2>(self.lamb[i]-self.beta*self.x[i]-c1)**2:\n",
        "                        self.y[i]=-(self.lamb[i]-self.beta*self.x[i]+c1)/(2*c2+self.beta)\n",
        "                    else:\n",
        "                        self.y[i]=-(self.lamb[i]-self.beta*self.x[i]-c1)/(2*c2+self.beta)\n",
        "\n",
        "            #udate for lambda\n",
        "            self.lamb=self.lamb-self.beta*(self.x-self.y)\n",
        "\n",
        "\n",
        "            #update for x\n",
        "            index=self.rng.integers(A.shape[0])\n",
        "            sample_a=np.transpose(A[index,:])\n",
        "            sample_b=b[index]\n",
        "            nabla_f=2*(np.dot(sample_a,self.x)-sample_b)*sample_a\n",
        "            self.x=(self.x-self.eta*(nabla_f-self.beta*self.y-self.lamb))/(1+self.eta*self.beta)\n",
        "\n",
        "            self.x=self.x+self.scale_noise*self.rng.normal(size=p)\n",
        "\n",
        "\n",
        "\n",
        "\n",
        "            #save data\n",
        "            scores.append(lasso_obj(A, b, self.x, c1,c2))\n",
        "\n",
        "        self.scores = np.array(scores)\n",
        "\n",
        "    def multiple_time_fit(self, A, b, c1,c2,stime=100):\n",
        "        self.scores_multi_run=np.zeros([stime,self.max_iter+1])\n",
        "        self.avg_scores=np.zeros(self.max_iter+1)\n",
        "        for i in range(stime):\n",
        "            self.fit(A,b,c1,c2)\n",
        "            self.scores_multi_run[i,:]=self.scores\n",
        "            self.avg_scores=self.avg_scores+self.scores/stime\n",
        "\n",
        "\n"
      ]
    },
    {
      "cell_type": "code",
      "execution_count": 8,
      "id": "d97ffb77",
      "metadata": {
        "id": "d97ffb77"
      },
      "outputs": [],
      "source": [
        "n = 1000\n",
        "p = 64\n",
        "support=32\n",
        "c1=0.01\n",
        "c2=0.1\n",
        "\n",
        "noise=0.01"
      ]
    },
    {
      "cell_type": "code",
      "execution_count": 9,
      "id": "2bde9de8",
      "metadata": {
        "id": "2bde9de8"
      },
      "outputs": [],
      "source": [
        "#######################\n",
        "# Run ADMM in different L\n",
        "#######################\n",
        "\n",
        "Record_on_differen_L=[]\n",
        "Record_multi_run_L=[]\n",
        "\n",
        "admm_L = MyADMM()\n"
      ]
    },
    {
      "cell_type": "code",
      "execution_count": 10,
      "id": "ff8dbf95",
      "metadata": {
        "colab": {
          "base_uri": "https://localhost:8080/"
        },
        "id": "ff8dbf95",
        "outputId": "97a8c321-cf71-4628-b06a-7dd17c19f65a"
      },
      "outputs": [
        {
          "output_type": "stream",
          "name": "stdout",
          "text": [
            "0.1\n"
          ]
        },
        {
          "output_type": "stream",
          "name": "stderr",
          "text": []
        },
        {
          "output_type": "stream",
          "name": "stdout",
          "text": [
            "2.811985325014982\n",
            "0.9473684210526315\n"
          ]
        },
        {
          "output_type": "stream",
          "name": "stderr",
          "text": []
        }
      ],
      "source": [
        "r = 0.5\n",
        "beta=0.9\n",
        "\n",
        "A, b, true_x = make_singular(n, p, rng=18,noise=0.01,radius=r)\n",
        "\n",
        "admm_L.estimate_parameter(r,c1,c2,beta,0)\n",
        "admm_L.eta=0.1\n",
        "print(admm_L.eta)\n",
        "\n",
        "admm_L.fit(A,b,c1,c2)\n",
        "opt=min(admm_L.scores)\n",
        "print(opt)\n",
        "\n",
        "admm_L.estimate_parameter(r,c1,c2,beta,noise)\n",
        "print(admm_L.L)\n",
        "admm_L.multiple_time_fit(A,b,c1,c2)\n",
        "Record_on_differen_L.append((admm_L.L,admm_L.avg_scores-opt))\n",
        "Record_multi_run_L.append(admm_L.scores_multi_run)"
      ]
    },
    {
      "cell_type": "code",
      "execution_count": 11,
      "id": "db3d2c6d",
      "metadata": {
        "colab": {
          "base_uri": "https://localhost:8080/"
        },
        "id": "db3d2c6d",
        "outputId": "c2025b4e-0225-4b7a-db4c-d8522b380e4f"
      },
      "outputs": [
        {
          "output_type": "stream",
          "name": "stdout",
          "text": [
            "0.1\n"
          ]
        },
        {
          "output_type": "stream",
          "name": "stderr",
          "text": []
        },
        {
          "output_type": "stream",
          "name": "stdout",
          "text": [
            "1.800782420961521\n",
            "0.9148813478072089\n"
          ]
        },
        {
          "output_type": "stream",
          "name": "stderr",
          "text": []
        }
      ],
      "source": [
        "r = 0.3\n",
        "beta=0.5\n",
        "\n",
        "A, b, true_x = make_singular(n, p, rng=18,noise=0.01,radius=r)\n",
        "\n",
        "admm_L.estimate_parameter(r,c1,c2,beta,0)\n",
        "admm_L.eta=0.1\n",
        "print(admm_L.eta)\n",
        "\n",
        "admm_L.fit(A,b,c1,c2)\n",
        "opt=min(admm_L.scores)\n",
        "print(opt)\n",
        "\n",
        "admm_L.estimate_parameter(r,c1,c2,beta,noise)\n",
        "print(admm_L.L)\n",
        "admm_L.multiple_time_fit(A,b,c1,c2)\n",
        "Record_on_differen_L.append((admm_L.L,admm_L.avg_scores-opt))\n",
        "Record_multi_run_L.append(admm_L.scores_multi_run)"
      ]
    },
    {
      "cell_type": "code",
      "execution_count": 12,
      "id": "50fd72c5",
      "metadata": {
        "colab": {
          "base_uri": "https://localhost:8080/"
        },
        "id": "50fd72c5",
        "outputId": "31a50daa-9b44-4c24-d612-4712a3668e4c"
      },
      "outputs": [
        {
          "output_type": "stream",
          "name": "stdout",
          "text": [
            "0.1\n"
          ]
        },
        {
          "output_type": "stream",
          "name": "stderr",
          "text": []
        },
        {
          "output_type": "stream",
          "name": "stdout",
          "text": [
            "1.3125600997928328\n",
            "0.8571428571428573\n"
          ]
        },
        {
          "output_type": "stream",
          "name": "stderr",
          "text": []
        }
      ],
      "source": [
        "r = 0.15\n",
        "beta=0.3\n",
        "\n",
        "A, b, true_x = make_singular(n, p, rng=18,noise=0.01,radius=r)\n",
        "\n",
        "admm_L.estimate_parameter(r,c1,c2,beta,0)\n",
        "admm_L.eta=0.1\n",
        "print(admm_L.eta)\n",
        "\n",
        "admm_L.fit(A,b,c1,c2)\n",
        "opt=min(admm_L.scores)\n",
        "print(opt)\n",
        "\n",
        "admm_L.estimate_parameter(r,c1,c2,beta,noise)\n",
        "print(admm_L.L)\n",
        "admm_L.multiple_time_fit(A,b,c1,c2)\n",
        "Record_on_differen_L.append((admm_L.L,admm_L.avg_scores-opt))\n",
        "Record_multi_run_L.append(admm_L.scores_multi_run)"
      ]
    },
    {
      "cell_type": "code",
      "execution_count": 13,
      "id": "1ef6e7e7",
      "metadata": {
        "colab": {
          "base_uri": "https://localhost:8080/"
        },
        "id": "1ef6e7e7",
        "outputId": "a56b5f02-e974-43d3-8609-95993b988c3b"
      },
      "outputs": [
        {
          "output_type": "stream",
          "name": "stdout",
          "text": [
            "0.1\n"
          ]
        },
        {
          "output_type": "stream",
          "name": "stderr",
          "text": []
        },
        {
          "output_type": "stream",
          "name": "stdout",
          "text": [
            "1.1418022238549461\n",
            "0.799231224022575\n"
          ]
        },
        {
          "output_type": "stream",
          "name": "stderr",
          "text": []
        }
      ],
      "source": [
        "r = 0.1\n",
        "beta=0.15\n",
        "\n",
        "A, b, true_x = make_singular(n, p, rng=18,noise=0.01,radius=r)\n",
        "admm_L.estimate_parameter(r,c1,c2,beta,0)\n",
        "admm_L.eta=0.1\n",
        "print(admm_L.eta)\n",
        "\n",
        "admm_L.fit(A,b,c1,c2)\n",
        "opt=min(admm_L.scores)\n",
        "print(opt)\n",
        "\n",
        "admm_L.estimate_parameter(r,c1,c2,beta,0)\n",
        "print(admm_L.L)\n",
        "admm_L.multiple_time_fit(A,b,c1,c2)\n",
        "Record_on_differen_L.append((admm_L.L,admm_L.avg_scores-opt))\n",
        "Record_multi_run_L.append(admm_L.scores_multi_run)"
      ]
    },
    {
      "cell_type": "code",
      "source": [
        "confidence_level=0.05"
      ],
      "metadata": {
        "id": "7YlSXzJFTHJY"
      },
      "id": "7YlSXzJFTHJY",
      "execution_count": 14,
      "outputs": []
    },
    {
      "cell_type": "code",
      "source": [
        "convergence_step=[]\n",
        "for i in range(len(Record_multi_run_L)):\n",
        "  for j in range(len(Record_multi_run_L[0][0,:])-5):\n",
        "    test1=stats.levene(Record_multi_run_L[i][:,j], Record_multi_run_L[i][:,j+5])\n",
        "    if(test1.pvalue>0.2):\n",
        "      test2=stats.ttest_ind(Record_multi_run_L[i][:,j], Record_multi_run_L[i][:,j+5],equal_var=True)\n",
        "    else:\n",
        "      test2=stats.ttest_ind(Record_multi_run_L[i][:,j], Record_multi_run_L[i][:,j+5],equal_var=False)\n",
        "    if(test2.pvalue/2>confidence_level):\n",
        "      convergence_step.append(j)\n",
        "      break"
      ],
      "metadata": {
        "colab": {
          "base_uri": "https://localhost:8080/"
        },
        "id": "Ated3WWJQJF_",
        "outputId": "cbf91f44-122f-4ee4-e230-dca998cc01c3"
      },
      "id": "Ated3WWJQJF_",
      "execution_count": 15,
      "outputs": [
        {
          "output_type": "stream",
          "name": "stderr",
          "text": [
            "/usr/local/lib/python3.10/dist-packages/scipy/stats/_axis_nan_policy.py:523: RuntimeWarning: Precision loss occurred in moment calculation due to catastrophic cancellation. This occurs when the data are nearly identical. Results may be unreliable.\n",
            "  res = hypotest_fun_out(*samples, **kwds)\n"
          ]
        }
      ]
    },
    {
      "cell_type": "code",
      "source": [
        "convergence_step"
      ],
      "metadata": {
        "colab": {
          "base_uri": "https://localhost:8080/"
        },
        "id": "cCMWmVC-TgdN",
        "outputId": "450e58c9-57cc-4163-f24d-efe288f2edb9"
      },
      "id": "cCMWmVC-TgdN",
      "execution_count": 16,
      "outputs": [
        {
          "output_type": "execute_result",
          "data": {
            "text/plain": [
              "[26, 13, 7, 6]"
            ]
          },
          "metadata": {},
          "execution_count": 16
        }
      ]
    },
    {
      "cell_type": "code",
      "execution_count": null,
      "id": "753574d0",
      "metadata": {
        "colab": {
          "base_uri": "https://localhost:8080/",
          "height": 449
        },
        "id": "753574d0",
        "outputId": "e33815d9-66a7-4c13-fd91-d10e2dcffec6"
      },
      "outputs": [
        {
          "output_type": "display_data",
          "data": {
            "text/plain": [
              "<Figure size 640x480 with 1 Axes>"
            ],
            "image/png": "[encoded data removed]"
          },
          "metadata": {}
        }
      ],
      "source": [
        "figure,ax=plt.subplots()\n",
        "plt.yscale('log')\n",
        "for i in range(len(Record_on_differen_L)):\n",
        "    ax.plot(Record_on_differen_L[i][1][0:30],label='L=%.2f'%Record_on_differen_L[i][0])\n",
        "ax.legend()\n",
        "plt.xlabel(\"Numbers of Iterations (t)\")\n",
        "plt.ylabel(\"Average Optimality Gap\")\n",
        "plt.plot()\n",
        "\n",
        "\n",
        "plt.savefig('L_log.pdf',format='pdf')\n",
        "\n"
      ]
    },
    {
      "cell_type": "code",
      "execution_count": null,
      "id": "a729b8a4",
      "metadata": {
        "colab": {
          "base_uri": "https://localhost:8080/",
          "height": 449
        },
        "id": "a729b8a4",
        "outputId": "5c9cb93b-34b9-4b82-e6c0-32d5804fecc2"
      },
      "outputs": [
        {
          "output_type": "display_data",
          "data": {
            "text/plain": [
              "<Figure size 640x480 with 1 Axes>"
            ],
            "image/png": "[encoded data removed]"
          },
          "metadata": {}
        }
      ],
      "source": [
        "figure,ax=plt.subplots()\n",
        "#plt.yscale('log')\n",
        "for i in range(len(Record_on_differen_L)):\n",
        "    ax.plot(Record_on_differen_L[i][1][0:30],label='L=%.2f'%Record_on_differen_L[i][0])\n",
        "ax.legend()\n",
        "plt.xlabel(\"Numbers of Iterations (t)\")\n",
        "plt.ylabel(\"Average Optimality Gap\")\n",
        "plt.plot()\n",
        "\n",
        "\n",
        "plt.savefig('L.pdf',format='pdf')\n",
        "\n"
      ]
    },
    {
      "cell_type": "code",
      "execution_count": null,
      "id": "354d2c01",
      "metadata": {
        "id": "354d2c01"
      },
      "outputs": [],
      "source": [
        "#######################\n",
        "# Run ADMM in different sigma\n",
        "#######################\n",
        "\n",
        "Record_on_differen_sigma=[]\n",
        "\n",
        "admm_sigma = MyADMM()\n",
        "Record_multi_run_sigma=[]\n"
      ]
    },
    {
      "cell_type": "code",
      "execution_count": null,
      "id": "1837bcef",
      "metadata": {
        "id": "1837bcef"
      },
      "outputs": [],
      "source": [
        "n = 1000\n",
        "p = 64\n",
        "support=32\n",
        "c1=0.01\n",
        "c2=0.1\n",
        "r = 0.5\n",
        "beta=0.9\n",
        "A, b, true_x = make_singular(n, p, rng=18,noise=0.01,radius=r)"
      ]
    },
    {
      "cell_type": "code",
      "execution_count": null,
      "id": "d2640b44",
      "metadata": {
        "colab": {
          "base_uri": "https://localhost:8080/"
        },
        "id": "d2640b44",
        "outputId": "74393856-e1cf-47db-d9ea-3b4e474a00bd"
      },
      "outputs": [
        {
          "output_type": "stream",
          "name": "stderr",
          "text": [
            "                                       "
          ]
        },
        {
          "output_type": "stream",
          "name": "stdout",
          "text": [
            "1.4330115236248464\n"
          ]
        },
        {
          "output_type": "stream",
          "name": "stderr",
          "text": [
            "\r"
          ]
        }
      ],
      "source": [
        "admm_sigma.estimate_parameter(r,c1,c2,beta,0)\n",
        "admm_sigma.fit(A,b,c1,c2)\n",
        "opt=min(admm_sigma.scores)\n",
        "print(opt)"
      ]
    },
    {
      "cell_type": "code",
      "execution_count": null,
      "id": "764d9265",
      "metadata": {
        "colab": {
          "base_uri": "https://localhost:8080/"
        },
        "id": "764d9265",
        "outputId": "ca590f22-6900-4223-cccc-6a32e2346f6f"
      },
      "outputs": [
        {
          "output_type": "stream",
          "name": "stdout",
          "text": [
            "1.7530864197530864\n"
          ]
        }
      ],
      "source": [
        "print(admm_sigma.eta)"
      ]
    },
    {
      "cell_type": "code",
      "execution_count": null,
      "id": "a4f71eb2",
      "metadata": {
        "colab": {
          "base_uri": "https://localhost:8080/"
        },
        "id": "a4f71eb2",
        "outputId": "4492914e-bdbc-444e-b6a8-42fc841407ff"
      },
      "outputs": [
        {
          "output_type": "stream",
          "name": "stdout",
          "text": [
            "0.9473684210526315\n"
          ]
        },
        {
          "output_type": "stream",
          "name": "stderr",
          "text": []
        }
      ],
      "source": [
        "scale_noise=0.05\n",
        "\n",
        "admm_sigma.estimate_parameter(r,c1,c2,beta,scale_noise)\n",
        "print(admm_sigma.L)\n",
        "admm_sigma.multiple_time_fit(A,b,c1,c2)\n",
        "Record_on_differen_sigma.append((admm_sigma.scale_noise,admm_sigma.avg_scores-opt))\n",
        "Record_multi_run_sigma.append(admm_sigma.scores_multi_run)"
      ]
    },
    {
      "cell_type": "code",
      "execution_count": null,
      "id": "da0f8ff9",
      "metadata": {
        "colab": {
          "base_uri": "https://localhost:8080/"
        },
        "id": "da0f8ff9",
        "outputId": "e8d70f09-7244-4fcd-f97a-f2ea4f1784b1"
      },
      "outputs": [
        {
          "output_type": "stream",
          "name": "stdout",
          "text": [
            "0.9473684210526315\n"
          ]
        },
        {
          "output_type": "stream",
          "name": "stderr",
          "text": []
        }
      ],
      "source": [
        "scale_noise=0.1\n",
        "\n",
        "admm_sigma.estimate_parameter(r,c1,c2,beta,scale_noise)\n",
        "print(admm_sigma.L)\n",
        "admm_sigma.multiple_time_fit(A,b,c1,c2)\n",
        "Record_on_differen_sigma.append((admm_sigma.scale_noise,admm_sigma.avg_scores-opt))\n",
        "Record_multi_run_sigma.append(admm_sigma.scores_multi_run)"
      ]
    },
    {
      "cell_type": "code",
      "execution_count": null,
      "id": "cc30e7fe",
      "metadata": {
        "colab": {
          "base_uri": "https://localhost:8080/"
        },
        "id": "cc30e7fe",
        "outputId": "d0323308-6104-4255-ed3b-7ffe1c117e1b"
      },
      "outputs": [
        {
          "output_type": "stream",
          "name": "stdout",
          "text": [
            "0.9473684210526315\n"
          ]
        },
        {
          "output_type": "stream",
          "name": "stderr",
          "text": []
        }
      ],
      "source": [
        "scale_noise=0.2\n",
        "\n",
        "admm_sigma.estimate_parameter(r,c1,c2,beta,scale_noise)\n",
        "print(admm_sigma.L)\n",
        "admm_sigma.multiple_time_fit(A,b,c1,c2)\n",
        "Record_on_differen_sigma.append((admm_sigma.scale_noise,admm_sigma.avg_scores-opt))\n",
        "Record_multi_run_sigma.append(admm_sigma.scores_multi_run)"
      ]
    },
    {
      "cell_type": "code",
      "execution_count": null,
      "id": "cb541ba1",
      "metadata": {
        "colab": {
          "base_uri": "https://localhost:8080/"
        },
        "id": "cb541ba1",
        "outputId": "72588b0d-8b18-4fa0-9c01-b0903addb781"
      },
      "outputs": [
        {
          "output_type": "stream",
          "name": "stdout",
          "text": [
            "0.9473684210526315\n"
          ]
        },
        {
          "output_type": "stream",
          "name": "stderr",
          "text": []
        }
      ],
      "source": [
        "scale_noise=0.5\n",
        "\n",
        "admm_sigma.estimate_parameter(r,c1,c2,beta,scale_noise)\n",
        "print(admm_sigma.L)\n",
        "admm_sigma.multiple_time_fit(A,b,c1,c2)\n",
        "Record_on_differen_sigma.append((admm_sigma.scale_noise,admm_sigma.avg_scores-opt))\n",
        "Record_multi_run_sigma.append(admm_sigma.scores_multi_run)"
      ]
    },
    {
      "cell_type": "code",
      "execution_count": null,
      "id": "d9989c5a",
      "metadata": {
        "colab": {
          "base_uri": "https://localhost:8080/"
        },
        "id": "d9989c5a",
        "outputId": "46a4db87-bc45-4c7c-ee69-1ec64b9b5c04"
      },
      "outputs": [
        {
          "output_type": "stream",
          "name": "stdout",
          "text": [
            "0.9473684210526315\n"
          ]
        },
        {
          "output_type": "stream",
          "name": "stderr",
          "text": []
        }
      ],
      "source": [
        "scale_noise=0.7\n",
        "\n",
        "admm_sigma.estimate_parameter(r,c1,c2,beta,scale_noise)\n",
        "admm_sigma.eta=5\n",
        "print(admm_sigma.L)\n",
        "admm_sigma.multiple_time_fit(A,b,c1,c2)\n",
        "Record_on_differen_sigma.append((admm_sigma.scale_noise,admm_sigma.avg_scores-opt))\n",
        "Record_multi_run_sigma.append(admm_sigma.scores_multi_run)"
      ]
    },
    {
      "cell_type": "code",
      "execution_count": null,
      "id": "d7c5f3e6",
      "metadata": {
        "colab": {
          "base_uri": "https://localhost:8080/",
          "height": 449
        },
        "id": "d7c5f3e6",
        "outputId": "ed4f0606-c215-464c-eee7-dfc13b65306f"
      },
      "outputs": [
        {
          "output_type": "display_data",
          "data": {
            "text/plain": [
              "<Figure size 640x480 with 1 Axes>"
            ],
            "image/png": "[encoded data removed]"
          },
          "metadata": {}
        }
      ],
      "source": [
        "figure,ax=plt.subplots()\n",
        "plt.yscale('log')\n",
        "for i in range(len(Record_on_differen_sigma)):\n",
        "    ax.plot(Record_on_differen_sigma[i][1][0:100],label='$\\sigma$=%.2f'%Record_on_differen_sigma[i][0])\n",
        "ax.legend()\n",
        "plt.xlabel(\"Numbers of Iterations (t)\")\n",
        "plt.ylabel(\"Average Optimality Gap\")\n",
        "plt.plot()\n",
        "\n",
        "plt.savefig('sigma_log.pdf',format='pdf')\n"
      ]
    },
    {
      "cell_type": "code",
      "execution_count": null,
      "id": "5d8c62ba",
      "metadata": {
        "colab": {
          "base_uri": "https://localhost:8080/",
          "height": 449
        },
        "id": "5d8c62ba",
        "outputId": "a7db9a16-508c-45e9-bad5-bc5433b01cbd"
      },
      "outputs": [
        {
          "output_type": "display_data",
          "data": {
            "text/plain": [
              "<Figure size 640x480 with 1 Axes>"
            ],
            "image/png": "[encoded data removed]"
          },
          "metadata": {}
        }
      ],
      "source": [
        "figure,ax=plt.subplots()\n",
        "#plt.yscale('log')\n",
        "for i in range(len(Record_on_differen_sigma)):\n",
        "    ax.plot(Record_on_differen_sigma[i][1][0:100],label='$\\sigma$=%.2f'%Record_on_differen_sigma[i][0])\n",
        "ax.legend()\n",
        "plt.xlabel(\"Numbers of Iterations (t)\")\n",
        "plt.ylabel(\"Average Optimality Gap\")\n",
        "plt.plot()\n",
        "plt.savefig('sigma.pdf',format='pdf')\n"
      ]
    },
    {
      "cell_type": "code",
      "source": [
        "confidence_level=0.05"
      ],
      "metadata": {
        "id": "UqFfcslBYDPa"
      },
      "id": "UqFfcslBYDPa",
      "execution_count": null,
      "outputs": []
    },
    {
      "cell_type": "code",
      "execution_count": null,
      "id": "534bd28e",
      "metadata": {
        "id": "534bd28e"
      },
      "outputs": [],
      "source": [
        "p_value_sigma=np.zeros([5,5])\n",
        "for i in range(len(Record_multi_run_sigma)):\n",
        "  for j in range(len(Record_multi_run_sigma)):\n",
        "    test1=stats.levene(Record_multi_run_sigma[i][:,-1], Record_multi_run_sigma[j][:,-1])\n",
        "    #print(test1.pvalue)\n",
        "    if(test1.pvalue>confidence_level):\n",
        "      test2=stats.ttest_ind(Record_multi_run_sigma[i][:,-1], Record_multi_run_sigma[j][:,-1],equal_var=True)\n",
        "    else:\n",
        "      test2=stats.ttest_ind(Record_multi_run_sigma[i][:,-1], Record_multi_run_sigma[j][:,-1],equal_var=False)\n",
        "\n",
        "    p_value_sigma[i,j]=test2.pvalue"
      ]
    },
    {
      "cell_type": "code",
      "source": [
        "print(p_value_sigma)"
      ],
      "metadata": {
        "colab": {
          "base_uri": "https://localhost:8080/"
        },
        "id": "DZIL_7NaV8Gd",
        "outputId": "74fab50a-01c1-4f84-d5a8-0f6be5d397db"
      },
      "id": "DZIL_7NaV8Gd",
      "execution_count": null,
      "outputs": [
        {
          "output_type": "stream",
          "name": "stdout",
          "text": [
            "[[1.00000000e+00 4.19735117e-27 1.87307327e-71 4.56834001e-78\n",
            "  2.29504823e-79]\n",
            " [4.19735117e-27 1.00000000e+00 3.28998168e-62 4.12355945e-77\n",
            "  1.11259415e-78]\n",
            " [1.87307327e-71 3.28998168e-62 1.00000000e+00 6.69671947e-74\n",
            "  2.21838923e-76]\n",
            " [4.56834001e-78 4.12355945e-77 6.69671947e-74 1.00000000e+00\n",
            "  1.83075702e-36]\n",
            " [2.29504823e-79 1.11259415e-78 2.21838923e-76 1.83075702e-36\n",
            "  1.00000000e+00]]\n"
          ]
        }
      ]
    }
  ],
  "metadata": {
    "kernelspec": {
      "display_name": "Python 3 (ipykernel)",
      "language": "python",
      "name": "python3"
    },
    "language_info": {
      "codemirror_mode": {
        "name": "ipython",
        "version": 3
      },
      "file_extension": ".py",
      "mimetype": "text/x-python",
      "name": "python",
      "nbconvert_exporter": "python",
      "pygments_lexer": "ipython3",
      "version": "3.8.5"
    },
    "colab": {
      "provenance": []
    }
  },
  "nbformat": 4,
  "nbformat_minor": 5
}